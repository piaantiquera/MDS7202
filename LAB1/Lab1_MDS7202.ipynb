{
  "cells": [
    {
      "cell_type": "markdown",
      "metadata": {
        "id": "J4_IcuuKZj9Y",
        "cell_id": "097fce6dce21405c911254a775ae3d26",
        "deepnote_cell_type": "markdown"
      },
      "source": [
        "<h1><center>Laboratorio 1: Git 👾</center></h1>\n",
        "\n",
        "<center><strong>MDS7202: Laboratorio de Programación Científica para Ciencia de Datos - Otoño 2024</strong></center>"
      ]
    },
    {
      "cell_type": "markdown",
      "metadata": {
        "id": "AEXIACc7aADv",
        "cell_id": "9e8e8f2ae34e461da4f44508a96d2cf4",
        "deepnote_cell_type": "markdown"
      },
      "source": [
        "### Cuerpo Docente:\n",
        "\n",
        "- Profesores: Ignacio Meza, Sebastián Tinoco\n",
        "- Auxiliar: Catherine Benavides\n",
        "- Ayudante: Nicolás Ojeda, Eduardo Moya"
      ]
    },
    {
      "cell_type": "markdown",
      "metadata": {
        "id": "0HgMMyoCaG8X",
        "cell_id": "3e5b48c23e1b48f6a64de41899166179",
        "deepnote_cell_type": "markdown"
      },
      "source": [
        "### **Equipo**\n",
        "\n",
        "- Pía Antiquera.\n",
        "- Evelyn Silva."
      ]
    },
    {
      "cell_type": "markdown",
      "metadata": {
        "id": "fz77X6glaK6y",
        "cell_id": "1db7c82b68614d19b112ba3b0d0abe4d",
        "deepnote_cell_type": "markdown"
      },
      "source": [
        "### **Link de repositorio de GitHub:** 
https://github.com/piaantiquera/MDS7202.git"
      ]
    },
    {
      "cell_type": "markdown",
      "metadata": {
        "id": "rRwqaxIZaNx3",
        "cell_id": "bc3dac65089d4ae6a43c079547dee179",
        "deepnote_cell_type": "markdown"
      },
      "source": [
        "## Reglas:\n",
        "\n",
        "- **Grupos de 2 personas**\n",
        "- Fecha de entrega: 7 días desde la publicación, 3 días de atraso con 1 punto de descuento c/u.\n",
        "- Instrucciones del lab el viernes a las 16:15 en formato online. Asistencia no es obligatoria.\n",
        "- <u>Prohibidas las copias</u>. Cualquier intento de copia será debidamente penalizado con el reglamento de la escuela.\n",
        "- Tienen que subir el laboratorio a u-cursos Y a su repositorio de github. Labs que no estén en u-cursos no serán revisados. Recuerden que el repositorio también tiene nota.\n",
        "- Cualquier duda fuera del horario de clases al foro. Mensajes al equipo docente serán respondidos por este medio.\n",
        "- Pueden usar cualquer material del curso que estimen conveniente."
      ]
    },
    {
      "cell_type": "markdown",
      "metadata": {
        "id": "bmToL27JaSrf",
        "cell_id": "05e4729411a24153837fd13b7f198bd9",
        "deepnote_cell_type": "markdown"
      },
      "source": [
        "## Objetivos del lab:\n",
        "\n",
        "\n",
        "- Conocer los elementos básicos que conformar `Git`\n",
        "- Clonar repositorios\n",
        "- Identificar ramas de un repositorio\n",
        "- Reconocer y solucionar problemas entre ramas\n",
        "- Subir cambios a un repositorio"
      ]
    },
    {
      "cell_type": "markdown",
      "metadata": {
        "id": "bvnPCvrVbJLK",
        "cell_id": "5ebae9d601bd4d508349ab55297e9f82",
        "deepnote_cell_type": "markdown"
      },
      "source": [
        "## Parte 1: Conocimiento Teórico (2.5 pts)\n",
        "\n",
        "<p align=\"center\">\n",
        "  <img src=\"https://cdn.thedesigninspiration.com/wp-content/uploads/sites/3/2019/04/macintosh-hdusersbrittanyloefflerdownloadsanig-1.gif\" width=\"350\">\n",
        "</p>"
      ]
    },
    {
      "cell_type": "markdown",
      "metadata": {
        "id": "JHl-24XnbNLF",
        "cell_id": "627494dba4f84520b3ee8b9cbf58ee79",
        "deepnote_cell_type": "markdown"
      },
      "source": [
        "Responda las siguientes preguntas (0.2 pts c/u):\n",
        "\n",
        "1. ¿Qué es `Git` y cómo se relaciona con el control de versiones?\n",
        "\n",
        "2. Nombre y explique 3 diferencias entre `Git` y `Github`.\n",
        "\n",
        "3. ¿Qué es un `hash` y cómo se representa en un `commit`? De un ejemplo.\n",
        "\n",
        "4. ¿Que elementos componen a la estructura de datos de `Git`?\n",
        "\n",
        "5. ¿Que comandos de `Git` sirven para crear un repositorio y hacer seguimiento a cambios en los archivos?"
      ]
    },
    {
      "cell_type": "markdown",
      "metadata": {
        "id": "2tXCSkf0caG8",
        "cell_id": "6d06c40f429044a298b27c666f51f46f",
        "deepnote_cell_type": "markdown"
      },
      "source": [
        "\n",
        "\n",
        "1. Git es un DVSC (Sistema de control de versiones distribuido) que permite mantener un registro de los cambios efectuados en un archivo a lo largo del tiempo, esto permite a los desarrolladores del proyecto poder trabajar de forma simultánea guardando todas las versiones del proyecto\n",
        "\n",
        "2. Dentro de las principales diferencias encontramos:\n",
        "\n",
        "\n",
        "*   Git es un DVSC\n",
        "*   Github es un servicio de alojamiento basado en web\n",
        "*   Git es una herramienta de comando\n",
        "*   Github entrega una interfaz gráfica\n",
        "*   Git crea un repositorio local para hacer seguimiento de los cambios locales\n",
        "*   Github es un espacio para subir una copia de los repositorios de Git\n",
        "\n",
        "3. Un hash es una cadena Alphanumérica única que se genera apartir de los contendios de un commit teniendo en cuenta los contenidos del archivo al momento de hacer el commit, el autor y mensaje y el hash padre (es la primera version del hash). Esto de forma aplicada es: si agrego un archivo al repositorio se crea un Hash único y si subo una segunda versión de ese archivo al repositorio, esta versión tendrá otro hash único.\n",
        "\n",
        "\n",
        "4. Los objetos de datos tienen son una especie de snapshot con estructura de key-value basado en la relación entre blobs (datos), árboles (directorios) y commits principalmente. Estos son:\n",
        "\n",
        "* Objetos: Representan los datos del proyecto.\n",
        "* Blob: Contiene el contenido de un archivo en un punto específico del tiempo.\n",
        "* Tree: Organiza los blobs en una estructura de directorios.\n",
        "* Commit: Representa un punto en la historia del proyecto e incluye metadatos y referencias al estado del proyecto en ese momento.\n",
        "* Referencias: Son referencias a commits, como ramas y etiquetas.\n",
        "* Índice: Es un área donde se preparan los cambios antes de hacer el commit.\n",
        "\n",
        "5. Los comandos útiles para hacer crear un repositorio son:\n",
        "*  Crear un repositorio local vacío.\n",
        "```\n",
        "git init\n",
        "```\n",
        "* Clonar un repositorio remoto en ambiente local.\n",
        "```\n",
        "git clone URL\n",
        "```\n",
        "Los comandos útiles para hacer hacer seguimiento a un repositorio son:\n",
        "\n",
        "* Ver el historial de commits del repositorio.\n",
        "```\n",
        "git log\n",
        "```\n",
        "\n",
        "* Ver el estado actual del repositorio, considerando todos aquellos archivos que han sido agregados, modificados o eliminados desde el ultimo commit.\n",
        "```\n",
        "git status\n",
        "```\n",
        "* Añadir archivos al repositorio.\n",
        "```\n",
        "git add <nombre archivo>\n",
        "```\n",
        "* Confirmar los cambios realizados.\n",
        "```\n",
        "git commit -m \"nombre del comit\"\n",
        "```\n",
        "\n"
      ]
    },
    {
      "cell_type": "markdown",
      "metadata": {
        "id": "MACccbP4gU43",
        "cell_id": "ec9855406e324cc98b59e33500faea84",
        "deepnote_cell_type": "markdown"
      },
      "source": [
        "Responda si las siguientes afirmaciones son Verdaderas (V) o Falsas (F). Justifique en **cualquiera** de los casos (0.2 pts c/u):\n",
        "\n",
        "\n",
        "6. **`Git` siempre resuelve automáticamente los problemas de lineas al hacer merge entre diferentes ramas.**\n",
        "\n",
        "Falso, git puede no resolver conflictos y en ese caso, imprime un mensaje de error cuando hay conflictos entre las ramas el cual se tiene que resolver manualmente.\n",
        "\n",
        "7. **Ejecutar `git pull` sobre un repositorio es equivalente a ejecutar `git clone`.**\n",
        "\n",
        "Falso, git clone se utiliza para obtener una copia completa de un repositorio remoto por primera vez, git pull se utiliza para actualizar el repositorio local con los cambios más recientes del repositorio remoto.\n",
        "\n",
        "8. **`git status` genera los mismos resultados que `git log`.**\n",
        "\n",
        "Falso, git status muestra el estado de los archivos en el repositorio local para comprender que cambios están listos para ser commiteados o que archivos deben ser añadidos al staging area mientras que el git log nos muestra los commits realizados en el repositorio.\n",
        "\n",
        "9. **En `Git` es posible deshacer cambios y volver a versiones anteriores del código.**\n",
        "\n",
        "Verdadero, es posible deshacer cambios y volver a versiones anteriores del código utilizando varios comandos como git reset, git checkout, git revert, entre otros.\n",
        "\n",
        "\n",
        "10. El comando `git commit` se utiliza para enviar cambios al repositorio remoto.\n",
        "\n",
        "Falso, el git commit se utiliza para confirmar los cambios en el repositorio local, no para enviarlos al repositorio remoto. Para enviar cambios al repositorio remoto, se utiliza git push."
      ]
    },
    {
      "cell_type": "markdown",
      "metadata": {
        "cell_id": "54317cad024744ebaf4938df55ba3b95",
        "deepnote_cell_type": "markdown",
        "id": "LYq55sI2Rjf0"
      },
      "source": [
        "Por último, investigue y comente para qué sirven los siguientes comandos:\n",
        "\n",
        "11. `git stash` (0.25 puntos)\n",
        "\n",
        "El comando se utiliza para \"apartar\" cambios en el directorio de trabajo que aún no están listos para ser commiteados, pero que tampoco se quieren descartar por completo, es decir, permite guardar temporalmente cambios sin commitearlos ni descartarlos.\n",
        "\n",
        "12. `git reset`. ¿Cuál es la diferencia de este comando con `git revert`?. (0.25 puntos)\n",
        "\n",
        "El comando git reset se utiliza para restablecer el estado actual de una rama o un archivo específico para restablecer su estado a otro estado determinado.\n",
        "\n",
        "Tanto git reset como git revert \"deshacen\" commits anteriores. Pero git reset reescribe el historial de commits lo que podría crear conflictos por incosistencias en el repositorio. Por otro lado, git revert crea un commit nuevo, no reescribe el ya existente, lo que permite no alterar el historial de commits.\n",
        "\n"
      ]
    },
    {
      "cell_type": "markdown",
      "metadata": {
        "id": "i7Em9JkbbRLo",
        "cell_id": "3e4d8b9974e4426ca38fd20f4b835a55",
        "deepnote_cell_type": "markdown"
      },
      "source": [
        "## Parte 2: Creando una presentación personal (1.5 pts)\n",
        "\n",
        "<p align=\"center\">\n",
        "  <img src=\"https://media.tenor.com/arqlNu8gyJYAAAAC/cat-cat-jumping.gif\" width=\"150\">\n",
        "</p>\n",
        "\n"
      ]
    },
    {
      "cell_type": "markdown",
      "metadata": {
        "id": "XWIHfyrlbYOJ",
        "cell_id": "988648005dba4b9782c6625dfe6ae4ef",
        "deepnote_cell_type": "markdown"
      },
      "source": [
        "Para empezar a \"*soltar las manos*\" con `Git`, se les encomienda crear un repositorio con una presentación personal. El repositorio debe contener un breve resumen de quienes son ustedes, sus gustos, experiencias, y cualquier otro detalle interesante que ustedes consideren relevante.\n",
        "\n",
        "Para realizar esto, deben seguir los siguientes pasos:\n",
        "\n",
        "1. Contar con una cuenta de github (1 por persona)\n",
        "2. Crear un repositorio con su nombre de usuario\n",
        "3. Vincular el repositorio a su ambiente local ¿Qué comando(s) me permiten hacer esto?\n",
        "4. Crear un archivo `readme.md` con la información que ustedes deseen compartir.\n",
        "5. Realizar `push` con los cambios generados\n",
        "\n",
        "A modo de ejemplo, pueden guiarse por esta *suculenta* [presentación](https://github.com/Mezosky)\n",
        "\n",
        "**Nota: Deben trabajar todos estos puntos desde su ambiente local**\n",
        "\n",
        "*Hint: Una buena opción es usar templates de presentación personal que encuentren en Google, como los que ofrece este [sitio](https://durgeshsamariya.github.io/awesome-github-profile-readme-templates/#/)*.\n",
        "\n",
        "**Entregable:**\n",
        "\n",
        "Enlace al repositorio con la presentación personal.\n",
        "\n",
        "IMPORTANTE: DEBEN ADJUNTAR UN ENLACE POR PERSONA"
      ]
    },
    {
      "cell_type": "markdown",
      "metadata": {
        "id": "IIkWyl9tf0Sg",
        "cell_id": "081b38d55dc54282bc8e3cd300ce9d3e",
        "deepnote_cell_type": "markdown"
      },
      "source": [
        "<code>Link Presentacion 1:</code> https://github.com/evesr/Evelyn-Silva\n",
        "\n",
        "<code>Link Presentacion 2:</code> https://github.com/piaantiquera"
      ]
    },
    {
      "cell_type": "markdown",
      "metadata": {
        "id": "CAzXOwvDY-IG",
        "cell_id": "0481a05d2d1a46928f6cfb7762720980",
        "deepnote_cell_type": "markdown"
      },
      "source": [
        "## Parte 3: Trabajando sobre un repositorio externo (2 pts)\n",
        "\n",
        "<p align=\"center\">\n",
        "  <img src=\"https://media.tenor.com/YXL-0SK15j4AAAAC/dance-animals.gif\" width=\"300\">\n",
        "</p>\n",
        "\n",
        "Tras muchos dolores de cabeza, un grupo de entusiastas académicos decidieron aprender sobre `Git` y así trabajar colaborativamente de forma más ordenada y eficiente. Después de una infinidad de intentos y aprender de sus errores \"*a la mala*\", los académicos lograron levantar un [repositorio](https://github.com/MDS7202/lab1) en `Github`. Usando el repositorio de los académicos, responda las siguientes preguntas (**incluya también los comandos en `Git` ocupados**):\n"
      ]
    },
    {
      "cell_type": "markdown",
      "metadata": {
        "id": "BFRnAw0rfguR",
        "cell_id": "bcef73b2e8604579bde90ed6622abfe9",
        "deepnote_cell_type": "markdown"
      },
      "source": [
        "1. Clone el repositorio a su ambiente local. (0.25 pts)"
      ]
    },
    {
      "cell_type": "markdown",
      "metadata": {
        "id": "KXro32yBeilN",
        "cell_id": "5d126ac3819c44479af94d3895bc4c97",
        "deepnote_cell_type": "markdown"
      },
      "source": [
        "<code>git clone https://github.com/MDS7202/lab1.git</code>"
      ]
    },
    {
      "cell_type": "markdown",
      "metadata": {
        "cell_id": "e215e4e25b2440f09ac273ba63603986",
        "deepnote_cell_type": "markdown",
        "id": "8QB-GKmQRjf1"
      },
      "source": [
        "2. Descomprima los archivos subidos con la tarea en U-cursos en la carpeta recién clonada de github. Una vez realizado esto, cree un archivo `.gitignore` con el cual omita la carpeta `videos` y los archivos con la extensión `.txt` exceptuando el archivo `171.txt` de la carpeta `texts`. (0.25 pts)"
      ]
    },
    {
      "cell_type": "markdown",
      "metadata": {
        "cell_id": "186233b44d004e3bbd86262d010188b5",
        "deepnote_cell_type": "markdown",
        "id": "7VJ8IIYpRjf1"
      },
      "source": [
        "- Descomprimir y mover archivos desde la tarea en U-cursos a la carpeta clonada del repositorio.\n",
        "\n",
        "<code>>> unzip -o /Users/piaal/Downloads/202403221645A89AE6E0DC4899C3__lab1.zip -d /Users/piaal/Desktop/MDS7202 </code>\n",
        "- Crear un archivo .gitignore\n",
        "\n",
        "<code>>> touch .gitignore </code>\n",
        "\n",
        "- Podemos verificar la creación del archivo gitignore listando los elementos de la carpeta incluyendo los ocultos.\n",
        "\n",
        "<code>>> ls -a </code>\n",
        "\n",
        "De lo anterior, se obtiene lo siguiente\n",
        "```\n",
        ".\t\t\t.gitignore\t\treadme.md\n",
        "..\t\t\tLab1_enunciado.ipynb\ttexts\n",
        ".DS_Store\t\tanimales.py\t\tvideos\n",
        ".git\t\t\tmain.py\n",
        "```\n",
        "- Abrir el archivo gitingore.\n",
        "\n",
        "<code>>>nano .gitignore</code>\n",
        "\n",
        "- Incluir solo los archivos mencionados en el archivo y cerrar con ctrl + X\n",
        "\n",
        "```\n",
        "videos/\n",
        "\\n*.txt\n",
        "\\n!171.txt\n",
        "```\n",
        "\n",
        "<code> videos/ </code> : Comando para ignorar el directorio llamado videos y cualquier archivo dentro de él.\n",
        "\n",
        "<code>\\n*.txt </code> : Comando para ignorar todos los archivos con extensión .txt.\n",
        "\n",
        "<code>\\n!171.txt </code>: Comando para excluir el archivo llamado 171.txt aunque tenga la extensión .txt. Esto anula la regla anterior que ignora todos los archivos .txt.\n",
        "\n"
      ]
    },
    {
      "cell_type": "markdown",
      "metadata": {
        "id": "q2qmiDyjt2M_",
        "cell_id": "1de150590a41484a988b8e46616a2324",
        "deepnote_cell_type": "markdown"
      },
      "source": [
        "3. Inspeccione brevemente el repositorio: ¿Cual es el objetivo del proyecto? Explique brevemente la estructura del proyecto, asi como también cada elemento que lo conforma. (0.25 pts)"
      ]
    },
    {
      "cell_type": "markdown",
      "metadata": {
        "id": "aBHpR8VTftkT",
        "cell_id": "082ca01c865e48e28352b280400c47b6",
        "deepnote_cell_type": "markdown"
      },
      "source": [
        "\n",
        "El objetivo del proyecto es un emulador de sonidos de animales. Esta compuesto por dos archivos de extensión .py, uno de ellos un main.py para hacer ejecutable la aplicación y un animales.py correspondiente a la función principal usada en el ejecutable. Además, tiene un archivo de extensión .md correspondiente a una breve descripción del proyecto.\n"
      ]
    },
    {
      "cell_type": "markdown",
      "metadata": {
        "id": "XFwqcpLZfylf",
        "cell_id": "3aab4a3ee0c246e1be955680ad653fb8",
        "deepnote_cell_type": "markdown"
      },
      "source": [
        "4. Identifique los últimos cambios al repositorio, reconociendo las principales ramas de trabajo. ¿Son informativos los `commit` realizados? (0.25 pts)\n",
        "*Hint: Se recomienda usar los argumentos `all`, `graph` y `decorate`*"
      ]
    },
    {
      "cell_type": "markdown",
      "metadata": {
        "id": "cmWfXBkOhog0",
        "cell_id": "0fab79a360ac4c6a9ca0ab884f85c7e1",
        "deepnote_cell_type": "markdown"
      },
      "source": [
        "A partir de <code>git log --all </code> podemos observar todos los commits realizados tanto en rama principal como en rama secundaria en la historia del proyecto, incluye los commits en ramas no fusionadas. En este caso, notamos que presenta 4 commits; \"primer commit\" (b262d86411a6b017e99bf0731e33a6787739247c) por @seba en la rama main, \"se agrega función\"(c8b1a62d7299552b0654f930d695b33109214111) por @seba en la rama main, \"se separa en modulos\" (362fe21ee44f53ee944cee4ba484600308f83d78) por @mezosky en la rama main y \"fix ifs\" (25543a3baf77292baf849726784ca005473acab1) por @pablo que no esta en una rama.\n",
        "\n",
        "\n",
        "\n",
        "A partir de <code>git log --graph </code> podemos observar el historial de commits realizados en la rama actual. En el caso de la rama main notamos que presenta 3 commits; primer commit por @seba, se agrega función por @seba y se separa en modulo  por @mezosky ordenadas desde el commit mas antiguo al mas reciente. Además, notamos que el retorno presenta una visualización gráfica de las ramas junto a sus commits.\n"
      ]
    },
    {
      "cell_type": "markdown",
      "metadata": {
        "id": "Vqbj9HdXrUnN",
        "cell_id": "d07b24d21f2343fb9a7e6a5db74e98c3",
        "deepnote_cell_type": "markdown"
      },
      "source": [
        "5. Uno de los académicos se da cuenta que la rama principal de trabajo no se ejecuta correctamente para todos los argumentos. Señale y explique el error en el código e identifique a la persona que lo cometió usando `git blame` (0.25 pts)\n",
        "\n",
        "*Hint: Le puede ser útil esta [documentación](https://www.atlassian.com/es/git/tutorials/inspecting-a-repository/git-blame).*"
      ]
    },
    {
      "cell_type": "markdown",
      "metadata": {
        "id": "5ajhV2Iar3tV",
        "cell_id": "bc5b0f9c639643108f8e66687b721732",
        "deepnote_cell_type": "markdown"
      },
      "source": [
        "Como se nos habla de la rama principal, sería una buena práctica hacer lo siguiente de antemano:\n",
        "- Cambiar la rama a la principal.\n",
        "\n",
        "<code>>> git checkout main</code>\n",
        "- Revisar la rama actual y verificar que sea la rama main.\n",
        "\n",
        "<code>>> git branch </code>\n",
        "\n",
        "Luego, como sabemos que existen dos archivos en la rama main del repositorio, analizamos cada uno de estos.\n",
        "\n",
        "<code>>> git blame main.py</code>\n",
        "\n",
        "<code>>> git blame animales.py</code>\n",
        "\n",
        "Con lo anterior, notamos que en animales.py, se obtiene lo siguiente:\n",
        "```\n",
        "362fe21e (mezosky 2023-03-23 21:47:34 -0300  1) def animales(input):\n",
        "362fe21e (mezosky 2023-03-23 21:47:34 -0300  2)\n",
        "362fe21e (mezosky 2023-03-23 21:47:34 -0300  3) '''\n",
        "362fe21e (mezosky 2023-03-23 21:47:34 -0300  4)     Como hace el animalito?\n",
        "362fe21e (mezosky 2023-03-23 21:47:34 -0300  5)     '''\n",
        "362fe21e (mezosky 2023-03-23 21:47:34 -0300  6)\n",
        "362fe21e (mezosky 2023-03-23 21:47:34 -0300  7) if input.lower() == 'gato':\n",
        "362fe21e (mezosky 2023-03-23 21:47:34 -0300  8)     print('miau')\n",
        "362fe21e (mezosky 2023-03-23 21:47:34 -0300  9) if input.lower() == 'perro':\n",
        "362fe21e (mezosky 2023-03-23 21:47:34 -0300 10)     print('guau')\n",
        "362fe21e (mezosky 2023-03-23 21:47:34 -0300 11) if input.lower() == 'fox':\n",
        "362fe21e (mezosky 2023-03-23 21:47:34 -0300 12)     print('https://www.youtube.com/watch?v=jofNR_WkoCE')\n",
        "362fe21e (mezosky 2023-03-23 21:47:34 -0300 13) else:\n",
        "362fe21e (mezosky 2023-03-23 21:47:34 -0300 14)     raise ValueError('animal no reconocido :(')\n",
        "```\n",
        "\n",
        "Luego, notamos que en la linea 9 y 11 modificadas por @mezosky el 23-03-23 se tienen condicionales if cuando lo correcto sería utilizar condicionales elif. De lo contrario, la ejecución imprimirá el siguiente error:\n",
        "\n",
        "```\n",
        ">> Ingrese el animalito para saber que dice:\n",
        ">> perro\n",
        ">> guau\n",
        "Traceback (most recent call last):\n",
        "  File \"/Users/piaal/Desktop/Repo/lab1/main.py\", line 6, in <module>\n",
        "    animales(animal)\n",
        "  File \"/Users/piaal/Desktop/Repo/lab1/animales.py\", line 14, in animales\n",
        "    raise ValueError('animal no reconocido :(')\n",
        "ValueError: animal no reconocido :(\n",
        "```\n"
      ]
    },
    {
      "cell_type": "markdown",
      "metadata": {
        "id": "m8J3uE7MhqTA",
        "cell_id": "f3f4e78e6d9145ebbb120c0a2e4aade6",
        "deepnote_cell_type": "markdown"
      },
      "source": [
        "6. Busque los siguientes `commit`:\n",
        "\n",
        "- `c8b1a62d7299552b0654f930d695b33109214111`\n",
        "- `362fe21ee44f53ee944cee4ba484600308f83d78`\n",
        "- `25543a3baf77292baf849726784ca005473acab1`\n",
        "\n",
        "¿Qué diferencias existen entre cada uno? (0.25 pts)"
      ]
    },
    {
      "cell_type": "markdown",
      "metadata": {
        "id": "sNHnZsgIitGh",
        "cell_id": "696ed361ac0c41c8a214cfad9dcb39e6",
        "deepnote_cell_type": "markdown"
      },
      "source": [
        "\n",
        "- Para el primer commit:\n",
        "\n",
        "<code> >> git log c8b1a62d7299552b0654f930d695b33109214111  362fe21ee44f53ee944cee4ba484600308f83d78 </code>\n",
        "\n",
        "<code>>> git show c8b1a62d7299552b0654f930d695b33109214111</code>\n",
        "\n",
        "- Para el segundo commit\n",
        "\n",
        "<code>>> git log 362fe21ee44f53ee944cee4ba484600308f83d78</code>\n",
        "\n",
        "<code>>> git show 362fe21ee44f53ee944cee4ba484600308f83d78</code>\n",
        "\n",
        "- Para las diferencias entre el primer y segundo commit:\n",
        "\n",
        "<code> >> git diff c8b1a62d7299552b0654f930d695b33109214111  362fe21ee44f53ee944cee4ba484600308f83d78 </code>\n",
        "\n",
        "- Para el tercer commit:\n",
        "\n",
        "<code>>> git log 25543a3baf77292baf849726784ca005473acab1</code>\n",
        "\n",
        "<code>>> git show 25543a3baf77292baf849726784ca005473acab1</code>\n",
        "\n",
        "\n",
        "- Para las diferencias entre el segundo y tercer commit:\n",
        "\n",
        "<code> >> git diff 362fe21ee44f53ee944cee4ba484600308f83d78 25543a3baf77292baf849726784ca005473acab1</code>\n",
        "\n",
        "\n",
        "\n",
        "\n",
        "Con lo anterior, podemos notar lo siguiente:\n",
        "\n",
        "\n",
        " - El primer commit es realizado por @seba, crea el archivo main.py donde agrega una función animales() con condiciones para imprimir sonidos de animales según la entrada proporcionada, por ello el commit se llama \"se agrega funcion\"\n",
        "\n",
        " - El segundo commit es realizado por @mezosky, crea un nuevo archivo animales.py donde agrega la funcion animales() dejando solo un llamado a esta funcion en el archivo original main.py.\n",
        " - El tercer commit es realizado por @Pablo Badilla, corrige el error de condicionales en la función animales() en el archivo animales.py.\n",
        "\n",
        "\n",
        "\n",
        "\n",
        "\n",
        "\n",
        "\n"
      ]
    },
    {
      "cell_type": "markdown",
      "metadata": {
        "id": "WQIPbfNCgpxC",
        "cell_id": "b4e18f8ce94c430f85915c4e2732d05b",
        "deepnote_cell_type": "markdown"
      },
      "source": [
        "7. Realice una `merge` de la rama `fix-ifs` con la rama `main` y describa lo que ocurre. ¿Qué parte del código podría estar ocasionando esto? (0.25 pts)"
      ]
    },
    {
      "cell_type": "markdown",
      "metadata": {
        "id": "ypH_6lL5ioZz",
        "cell_id": "36da6a0d4f4a427bbccac09e2ae965fd",
        "deepnote_cell_type": "markdown"
      },
      "source": [
        "<code>>> git merge origin/fix-ifs</code>\n",
        "\n",
        "```\n",
        "Auto-merging main.py\n",
        "CONFLICT (content): Merge conflict in main.py\n",
        "Automatic merge failed; fix conflicts and then commit the result.\n",
        "```\n",
        "\n",
        "De acuerdo a lo anterior, se sabe que se tiene un conflicto al hacer el merge de la rama fix-ifs con la rama main debido al código en el archivo main.py.\n",
        "\n",
        "Luego, exploremos este archivo con:\n",
        "\n",
        "<code>>>git blame main.py</code>\n",
        "```\n",
        "00000000 (Not Committed Yet 2024-03-28 08:10:25 -0300  1) <<<<<<< HEAD\n",
        "362fe21e (mezosky           2023-03-23 21:47:34 -0300  2) from animales import animales\n",
        "00000000 (Not Committed Yet 2024-03-28 08:10:25 -0300  3) =======\n",
        "c8b1a62d (seba              2023-03-22 17:28:19 -0300  4) def animales(input):\n",
        "c8b1a62d (seba              2023-03-22 17:28:19 -0300  5)     \n",
        "c8b1a62d (seba              2023-03-22 17:28:19 -0300  6)     '''\n",
        "c8b1a62d (seba              2023-03-22 17:28:19 -0300  7)     Como hace el animalito?\n",
        "c8b1a62d (seba              2023-03-22 17:28:19 -0300  8)     '''\n",
        "c8b1a62d (seba              2023-03-22 17:28:19 -0300  9)     \n",
        "c8b1a62d (seba              2023-03-22 17:28:19 -0300 10)     if input.lower() == 'gato':\n",
        "c8b1a62d (seba              2023-03-22 17:28:19 -0300 11)         print('miau')\n",
        "25543a3b (Pablo Badilla     2023-03-23 22:50:49 -0300 12)     elif input.lower() == 'perro':\n",
        "c8b1a62d (seba              2023-03-22 17:28:19 -0300 13)         print('guau')\n",
        "25543a3b (Pablo Badilla     2023-03-23 22:50:49 -0300 14)     elif input.lower() == 'fox':\n",
        "c8b1a62d (seba              2023-03-22 17:28:19 -0300 15)         print('https://www.youtube.com/watch?v=jofNR_WkoCE')\n",
        "c8b1a62d (seba              2023-03-22 17:28:19 -0300 16)     else:\n",
        "c8b1a62d (seba              2023-03-22 17:28:19 -0300 17)         raise ValueError('animal no reconocido :(')\n",
        "00000000 (Not Committed Yet 2024-03-28 08:10:25 -0300 18) >>>>>>> origin/fix-ifs\n",
        "c8b1a62d (seba              2023-03-22 17:28:19 -0300 19)\n",
        "^b262d86 (seba              2023-03-22 17:25:30 -0300 20) if __name__ == '__main__':\n",
        "^b262d86 (seba              2023-03-22 17:25:30 -0300 21)     print(\"Ingrese el animalito para saber que dice:\")\n",
        "^b262d86 (seba              2023-03-22 17:25:30 -0300 22)     animal = input()\n",
        "362fe21e (mezosky           2023-03-23 21:47:34 -0300 23)     animales(animal)\n",
        "```\n",
        "Con lo anterior, notamos que el parece radicar en un conflicto debido a las diferencias entre el script de la rama actual (main) y la rama origin/fix-ifs ya que que las ultimas modificaciones aún no han sido commiteadas.\n"
      ]
    },
    {
      "cell_type": "markdown",
      "metadata": {
        "id": "GYfODCjeivkU",
        "cell_id": "09787ab449c543479e5cc54c2a3b6c19",
        "deepnote_cell_type": "markdown"
      },
      "source": [
        "8. Cree una rama nueva y proponga una solución al problema anterior, adjuntando el código corregido y señalando las líneas modificadas. (0.25 pts)"
      ]
    },
    {
      "cell_type": "markdown",
      "metadata": {
        "id": "8heBxDU9iziT",
        "cell_id": "6d963fba3f2d4c17a4b281c7d3f4fb8b",
        "deepnote_cell_type": "markdown"
      },
      "source": [
        "Para solucionar esto abrimos el archivo problemático en un editor de texto.\n",
        "\n",
        "<code> nano main.py </code>\n",
        "\n",
        "Luego corregimos el archivo, para mantener los cambios realizados en la rama fix-ifs.\n",
        "\n",
        "```\n",
        "from animales import animales\n",
        "\n",
        "def animales(input):\n",
        "\n",
        "    '''\n",
        "    Como hace el animalito?\n",
        "    '''\n",
        "\n",
        "    if input.lower() == 'gato':\n",
        "        print('miau')\n",
        "    elif input.lower() == 'perro':\n",
        "        print('guau')\n",
        "    elif input.lower() == 'fox':\n",
        "        print('https://www.youtube.com/watch?v=jofNR_WkoCE')\n",
        "    else:\n",
        "        raise ValueError('animal no reconocido :(')\n",
        "\n",
        "if __name__ == '__main__':\n",
        "    print(\"Ingrese el animalito para saber que dice:\")\n",
        "    animal = input()\n",
        "    animales(animal)\n",
        "```\n",
        "\n",
        "- Crear una nueva rama.\n",
        "\n",
        "<code> git checkout -b sol_conflicto </code>\n",
        "\n",
        "\n",
        "- Agregar cambios.\n",
        "\n",
        "<code> git add main.py </code>\n",
        "\n",
        "- Commitear cambios.\n",
        "\n",
        "<code> git commit -m \"solucion de conflicto merge\" </code>\n",
        "\n",
        "- Realizar merge con la rama fix-ifs.\n",
        "\n",
        "<code> git merge origin/fix-ifs </code>\n",
        "\n"
      ]
    },
    {
      "cell_type": "markdown",
      "metadata": {
        "id": "Av8ebB9jkALO",
        "cell_id": "8a47d4bf8b3045d68e4f29bb449c87f1",
        "deepnote_cell_type": "markdown"
      },
      "source": [
        "## Fin"
      ]
    },
    {
      "cell_type": "markdown",
      "metadata": {
        "id": "aQqZT9fSkBK8",
        "cell_id": "cec4b53942ed489f8f8b63d0e9d4f3e5",
        "deepnote_cell_type": "markdown"
      },
      "source": [
        "Eso ha sido todo por ahora!! Esperamos que este laboratorio les haya gustado y servido para trabajar con `Git`. Recuerden los dias de plazo que tienen disponibles y que ante cualquier duda no duden en contactar al equipo docente.\n",
        "\n",
        "Nos vemos!!\n",
        "\n",
        "<p align=\"center\">\n",
        "  <img src=\"https://media.tenor.com/OYLdav9k9LkAAAAd/kitty-cat.gif\" width=\"350\">\n",
        "</p>\n"
      ]
    }
  ],
  "nbformat": 4,
  "nbformat_minor": 0,
  "metadata": {
    "deepnote_notebook_id": "62cd20d52b9a4810ada15644630456dc",
    "deepnote_execution_queue": [],
    "colab": {
      "provenance": []
    }
  }
}
